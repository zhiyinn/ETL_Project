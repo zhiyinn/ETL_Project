{
 "cells": [
  {
   "cell_type": "code",
   "execution_count": 4,
   "metadata": {},
   "outputs": [
    {
     "ename": "TypeError",
     "evalue": "sequence item 0: expected str instance, bytes found",
     "output_type": "error",
     "traceback": [
      "\u001b[0;31m---------------------------------------------------------------------------\u001b[0m",
      "\u001b[0;31mTypeError\u001b[0m                                 Traceback (most recent call last)",
      "\u001b[0;32m<ipython-input-4-f7ea3349bf34>\u001b[0m in \u001b[0;36m<module>\u001b[0;34m()\u001b[0m\n\u001b[1;32m      6\u001b[0m \u001b[0;34m\u001b[0m\u001b[0m\n\u001b[1;32m      7\u001b[0m \u001b[0;32mwith\u001b[0m \u001b[0mopen\u001b[0m\u001b[0;34m(\u001b[0m\u001b[0;34m\"revised parking.csv\"\u001b[0m\u001b[0;34m,\u001b[0m \u001b[0;34m\"wb\"\u001b[0m\u001b[0;34m)\u001b[0m \u001b[0;32mas\u001b[0m \u001b[0msink\u001b[0m\u001b[0;34m:\u001b[0m\u001b[0;34m\u001b[0m\u001b[0;34m\u001b[0m\u001b[0m\n\u001b[0;32m----> 8\u001b[0;31m     \u001b[0msink\u001b[0m\u001b[0;34m.\u001b[0m\u001b[0mwrite\u001b[0m\u001b[0;34m(\u001b[0m\u001b[0;34m\"\\n\"\u001b[0m\u001b[0;34m.\u001b[0m\u001b[0mjoin\u001b[0m\u001b[0;34m(\u001b[0m\u001b[0mrandom_choice\u001b[0m\u001b[0;34m)\u001b[0m\u001b[0;34m)\u001b[0m\u001b[0;34m\u001b[0m\u001b[0;34m\u001b[0m\u001b[0m\n\u001b[0m",
      "\u001b[0;31mTypeError\u001b[0m: sequence item 0: expected str instance, bytes found"
     ]
    }
   ],
   "source": [
    "import random\n",
    "random_choice = random.sample(lines, 100)\n",
    "\n",
    "with open(\"Parking_Violations_DC_2018.csv\", \"rb\") as source:\n",
    "    lines = [line for line in source]\n",
    "\n",
    "with open(\"revised parking.csv\", \"wb\") as sink:\n",
    "    sink.write(\"\\n\".join(random_choice))"
   ]
  },
  {
   "cell_type": "code",
   "execution_count": 6,
   "metadata": {},
   "outputs": [
    {
     "name": "stderr",
     "output_type": "stream",
     "text": [
      "/anaconda3/lib/python3.7/site-packages/IPython/core/interactiveshell.py:2785: DtypeWarning: Columns (0,1,2,3,4,5,6,7,8,13,14,15,16,17) have mixed types. Specify dtype option on import or set low_memory=False.\n",
      "  interactivity=interactivity, compiler=compiler, result=result)\n"
     ]
    },
    {
     "name": "stdout",
     "output_type": "stream",
     "text": [
      "              X        Y OBJECTID ROWID_ DAY_OF_WEEK HOLIDAY WEEK_OF_YEAR  \\\n",
      "360629 -76.9885  38.8991  3756445    NaN         NaN     NaN          NaN   \n",
      "\n",
      "       MONTH_OF_YEAR ISSUE_TIME VIOLATION_CODE     VIOLATION_DESCRIPTION  \\\n",
      "360629           NaN        NaN           P012  DISOBEYING OFFICIAL SIGN   \n",
      "\n",
      "                                   LOCATION RP_PLATE_STATE BODY_STYLE  \\\n",
      "360629  FRONT OF    700 13TH ST NE EAST SI*             MD        NaN   \n",
      "\n",
      "       ADDRESS_ID STREETSEGID  XCOORD  YCOORD         TICKET_ISSUE_DATE  \n",
      "360629        247        1742  400998  136804  2018-02-23T23:16:00.000Z  \n"
     ]
    }
   ],
   "source": [
    "import pandas as pd\n",
    "csvfile = pd.read_csv(\"Parking_Violations_DC_2018.csv\")\n",
    "print(csvfile.sample())"
   ]
  },
  {
   "cell_type": "code",
   "execution_count": null,
   "metadata": {},
   "outputs": [],
   "source": []
  }
 ],
 "metadata": {
  "kernelspec": {
   "display_name": "Python 3",
   "language": "python",
   "name": "python3"
  },
  "language_info": {
   "codemirror_mode": {
    "name": "ipython",
    "version": 3
   },
   "file_extension": ".py",
   "mimetype": "text/x-python",
   "name": "python",
   "nbconvert_exporter": "python",
   "pygments_lexer": "ipython3",
   "version": "3.7.2"
  }
 },
 "nbformat": 4,
 "nbformat_minor": 2
}
