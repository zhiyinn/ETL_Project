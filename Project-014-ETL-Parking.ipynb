{
 "cells": [
  {
   "cell_type": "code",
   "execution_count": 1,
   "metadata": {},
   "outputs": [],
   "source": [
    "# Import dependencies\n",
    "import pandas as pd\n",
    "import numpy as np\n",
    "from sqlalchemy import create_engine\n",
    "import datetime\n",
    "from datetime import date\n",
    "from datetime import time\n",
    "from datetime import datetime\n",
    "#import calendar\n",
    "import warnings\n",
    "warnings.filterwarnings('ignore')\n",
    "import io"
   ]
  },
  {
   "cell_type": "code",
   "execution_count": 2,
   "metadata": {},
   "outputs": [
    {
     "data": {
      "text/html": [
       "<div>\n",
       "<style scoped>\n",
       "    .dataframe tbody tr th:only-of-type {\n",
       "        vertical-align: middle;\n",
       "    }\n",
       "\n",
       "    .dataframe tbody tr th {\n",
       "        vertical-align: top;\n",
       "    }\n",
       "\n",
       "    .dataframe thead th {\n",
       "        text-align: right;\n",
       "    }\n",
       "</style>\n",
       "<table border=\"1\" class=\"dataframe\">\n",
       "  <thead>\n",
       "    <tr style=\"text-align: right;\">\n",
       "      <th></th>\n",
       "      <th>Ticket number</th>\n",
       "      <th>Issue Date</th>\n",
       "      <th>Issue time</th>\n",
       "      <th>Meter Id</th>\n",
       "      <th>Marked Time</th>\n",
       "      <th>RP State Plate</th>\n",
       "      <th>Plate Expiry Date</th>\n",
       "      <th>VIN</th>\n",
       "      <th>Make</th>\n",
       "      <th>Body Style</th>\n",
       "      <th>Color</th>\n",
       "      <th>Location</th>\n",
       "      <th>Route</th>\n",
       "      <th>Agency</th>\n",
       "      <th>Violation code</th>\n",
       "      <th>Violation Description</th>\n",
       "      <th>Fine amount</th>\n",
       "      <th>Latitude</th>\n",
       "      <th>Longitude</th>\n",
       "    </tr>\n",
       "  </thead>\n",
       "  <tbody>\n",
       "    <tr>\n",
       "      <th>0</th>\n",
       "      <td>1121041762</td>\n",
       "      <td>2018/01/01 12:00:00 AM</td>\n",
       "      <td>955.0</td>\n",
       "      <td>NaN</td>\n",
       "      <td>NaN</td>\n",
       "      <td>CA</td>\n",
       "      <td>201807.0</td>\n",
       "      <td>NaN</td>\n",
       "      <td>KIA</td>\n",
       "      <td>PA</td>\n",
       "      <td>RE</td>\n",
       "      <td>1048 E 43RD ST</td>\n",
       "      <td>13A27</td>\n",
       "      <td>1</td>\n",
       "      <td>8056E4</td>\n",
       "      <td>RED ZONE</td>\n",
       "      <td>93.0</td>\n",
       "      <td>6.483814e+06</td>\n",
       "      <td>1.824574e+06</td>\n",
       "    </tr>\n",
       "    <tr>\n",
       "      <th>1</th>\n",
       "      <td>4324502346</td>\n",
       "      <td>2018/01/01 12:00:00 AM</td>\n",
       "      <td>1134.0</td>\n",
       "      <td>NaN</td>\n",
       "      <td>NaN</td>\n",
       "      <td>CA</td>\n",
       "      <td>201706.0</td>\n",
       "      <td>NaN</td>\n",
       "      <td>GMC</td>\n",
       "      <td>TK</td>\n",
       "      <td>BL</td>\n",
       "      <td>16900 VERMONT AVE S</td>\n",
       "      <td>00500</td>\n",
       "      <td>55</td>\n",
       "      <td>5204A-</td>\n",
       "      <td>DISPLAY OF TABS</td>\n",
       "      <td>25.0</td>\n",
       "      <td>9.999900e+04</td>\n",
       "      <td>9.999900e+04</td>\n",
       "    </tr>\n",
       "  </tbody>\n",
       "</table>\n",
       "</div>"
      ],
      "text/plain": [
       "  Ticket number              Issue Date  Issue time Meter Id  Marked Time  \\\n",
       "0    1121041762  2018/01/01 12:00:00 AM       955.0      NaN          NaN   \n",
       "1    4324502346  2018/01/01 12:00:00 AM      1134.0      NaN          NaN   \n",
       "\n",
       "  RP State Plate  Plate Expiry Date  VIN Make Body Style Color  \\\n",
       "0             CA           201807.0  NaN  KIA         PA    RE   \n",
       "1             CA           201706.0  NaN  GMC         TK    BL   \n",
       "\n",
       "              Location  Route  Agency Violation code Violation Description  \\\n",
       "0       1048 E 43RD ST  13A27       1         8056E4              RED ZONE   \n",
       "1  16900 VERMONT AVE S  00500      55         5204A-       DISPLAY OF TABS   \n",
       "\n",
       "   Fine amount      Latitude     Longitude  \n",
       "0         93.0  6.483814e+06  1.824574e+06  \n",
       "1         25.0  9.999900e+04  9.999900e+04  "
      ]
     },
     "execution_count": 2,
     "metadata": {},
     "output_type": "execute_result"
    }
   ],
   "source": [
    "# https://nikgrozev.com/2015/06/16/fast-and-simple-sampling-in-pandas-when-loading-data-from-files/\n",
    "# Fast and Simple Sampling in Pandas when Loading Data From Files\n",
    "# The data to load\n",
    "p = \"Resources/LA_Parking.csv\"\n",
    "\n",
    "# Take every N-th (in this case 10th) row\n",
    "n = 10\n",
    "\n",
    "# Count the lines or use an upper bound\n",
    "num_lines = sum(1 for l in open(p))\n",
    "\n",
    "# The row indices to skip - make sure 0 is not included to keep the header!\n",
    "skip_idx = [x for x in range(1, num_lines) if x % n != 0]\n",
    "\n",
    "# Read the data\n",
    "la_parking_df = pd.read_csv(p, skiprows=skip_idx)\n",
    "la_parking_df.head(2)"
   ]
  },
  {
   "cell_type": "code",
   "execution_count": 3,
   "metadata": {},
   "outputs": [
    {
     "name": "stdout",
     "output_type": "stream",
     "text": [
      "Parking number of rows = 199879\n"
     ]
    }
   ],
   "source": [
    "print(f\"Parking number of rows = {la_parking_df['Ticket number'].count()}\")"
   ]
  },
  {
   "cell_type": "code",
   "execution_count": 4,
   "metadata": {},
   "outputs": [],
   "source": [
    "# Separate Date column by day, month and year and the complete date without the hours"
   ]
  },
  {
   "cell_type": "code",
   "execution_count": 5,
   "metadata": {},
   "outputs": [],
   "source": [
    "la_parking_df['Year'] = [i[0:4] for i in la_parking_df['Issue Date']]"
   ]
  },
  {
   "cell_type": "code",
   "execution_count": 6,
   "metadata": {},
   "outputs": [],
   "source": [
    "la_parking_df['Month'] = [i[5:7] for i in la_parking_df['Issue Date']]"
   ]
  },
  {
   "cell_type": "code",
   "execution_count": 7,
   "metadata": {},
   "outputs": [],
   "source": [
    "la_parking_df['Day'] = [i[8:10] for i in la_parking_df['Issue Date']]"
   ]
  },
  {
   "cell_type": "code",
   "execution_count": 8,
   "metadata": {},
   "outputs": [],
   "source": [
    "la_parking_df['Parking_Date'] = [i[0:10] for i in la_parking_df['Issue Date']]"
   ]
  },
  {
   "cell_type": "code",
   "execution_count": 9,
   "metadata": {},
   "outputs": [
    {
     "data": {
      "text/html": [
       "<div>\n",
       "<style scoped>\n",
       "    .dataframe tbody tr th:only-of-type {\n",
       "        vertical-align: middle;\n",
       "    }\n",
       "\n",
       "    .dataframe tbody tr th {\n",
       "        vertical-align: top;\n",
       "    }\n",
       "\n",
       "    .dataframe thead th {\n",
       "        text-align: right;\n",
       "    }\n",
       "</style>\n",
       "<table border=\"1\" class=\"dataframe\">\n",
       "  <thead>\n",
       "    <tr style=\"text-align: right;\">\n",
       "      <th></th>\n",
       "      <th>Ticket number</th>\n",
       "      <th>Issue Date</th>\n",
       "      <th>Issue time</th>\n",
       "      <th>Meter Id</th>\n",
       "      <th>Marked Time</th>\n",
       "      <th>RP State Plate</th>\n",
       "      <th>Plate Expiry Date</th>\n",
       "      <th>VIN</th>\n",
       "      <th>Make</th>\n",
       "      <th>Body Style</th>\n",
       "      <th>...</th>\n",
       "      <th>Agency</th>\n",
       "      <th>Violation code</th>\n",
       "      <th>Violation Description</th>\n",
       "      <th>Fine amount</th>\n",
       "      <th>Latitude</th>\n",
       "      <th>Longitude</th>\n",
       "      <th>Year</th>\n",
       "      <th>Month</th>\n",
       "      <th>Day</th>\n",
       "      <th>Parking_Date</th>\n",
       "    </tr>\n",
       "  </thead>\n",
       "  <tbody>\n",
       "    <tr>\n",
       "      <th>0</th>\n",
       "      <td>1121041762</td>\n",
       "      <td>2018/01/01 12:00:00 AM</td>\n",
       "      <td>955.0</td>\n",
       "      <td>NaN</td>\n",
       "      <td>NaN</td>\n",
       "      <td>CA</td>\n",
       "      <td>201807.0</td>\n",
       "      <td>NaN</td>\n",
       "      <td>KIA</td>\n",
       "      <td>PA</td>\n",
       "      <td>...</td>\n",
       "      <td>1</td>\n",
       "      <td>8056E4</td>\n",
       "      <td>RED ZONE</td>\n",
       "      <td>93.0</td>\n",
       "      <td>6.483814e+06</td>\n",
       "      <td>1.824574e+06</td>\n",
       "      <td>2018</td>\n",
       "      <td>01</td>\n",
       "      <td>01</td>\n",
       "      <td>2018/01/01</td>\n",
       "    </tr>\n",
       "    <tr>\n",
       "      <th>1</th>\n",
       "      <td>4324502346</td>\n",
       "      <td>2018/01/01 12:00:00 AM</td>\n",
       "      <td>1134.0</td>\n",
       "      <td>NaN</td>\n",
       "      <td>NaN</td>\n",
       "      <td>CA</td>\n",
       "      <td>201706.0</td>\n",
       "      <td>NaN</td>\n",
       "      <td>GMC</td>\n",
       "      <td>TK</td>\n",
       "      <td>...</td>\n",
       "      <td>55</td>\n",
       "      <td>5204A-</td>\n",
       "      <td>DISPLAY OF TABS</td>\n",
       "      <td>25.0</td>\n",
       "      <td>9.999900e+04</td>\n",
       "      <td>9.999900e+04</td>\n",
       "      <td>2018</td>\n",
       "      <td>01</td>\n",
       "      <td>01</td>\n",
       "      <td>2018/01/01</td>\n",
       "    </tr>\n",
       "  </tbody>\n",
       "</table>\n",
       "<p>2 rows × 23 columns</p>\n",
       "</div>"
      ],
      "text/plain": [
       "  Ticket number              Issue Date  Issue time Meter Id  Marked Time  \\\n",
       "0    1121041762  2018/01/01 12:00:00 AM       955.0      NaN          NaN   \n",
       "1    4324502346  2018/01/01 12:00:00 AM      1134.0      NaN          NaN   \n",
       "\n",
       "  RP State Plate  Plate Expiry Date  VIN Make Body Style     ...      Agency  \\\n",
       "0             CA           201807.0  NaN  KIA         PA     ...           1   \n",
       "1             CA           201706.0  NaN  GMC         TK     ...          55   \n",
       "\n",
       "  Violation code Violation Description  Fine amount      Latitude  \\\n",
       "0         8056E4              RED ZONE         93.0  6.483814e+06   \n",
       "1         5204A-       DISPLAY OF TABS         25.0  9.999900e+04   \n",
       "\n",
       "      Longitude  Year  Month  Day Parking_Date  \n",
       "0  1.824574e+06  2018     01   01   2018/01/01  \n",
       "1  9.999900e+04  2018     01   01   2018/01/01  \n",
       "\n",
       "[2 rows x 23 columns]"
      ]
     },
     "execution_count": 9,
     "metadata": {},
     "output_type": "execute_result"
    }
   ],
   "source": [
    "la_parking_df.head(2)"
   ]
  },
  {
   "cell_type": "code",
   "execution_count": 10,
   "metadata": {},
   "outputs": [
    {
     "data": {
      "text/plain": [
       "Index(['Ticket number', 'Issue Date', 'Issue time', 'Meter Id', 'Marked Time',\n",
       "       'RP State Plate', 'Plate Expiry Date', 'VIN', 'Make', 'Body Style',\n",
       "       'Color', 'Location', 'Route', 'Agency', 'Violation code',\n",
       "       'Violation Description', 'Fine amount', 'Latitude', 'Longitude', 'Year',\n",
       "       'Month', 'Day', 'Parking_Date'],\n",
       "      dtype='object')"
      ]
     },
     "execution_count": 10,
     "metadata": {},
     "output_type": "execute_result"
    }
   ],
   "source": [
    "la_parking_df.columns"
   ]
  },
  {
   "cell_type": "code",
   "execution_count": 11,
   "metadata": {},
   "outputs": [],
   "source": [
    "# select columns to use for the project\n",
    "la_parking_df_project = la_parking_df[['Ticket number', 'Issue Date', 'Issue time', 'Meter Id', 'Marked Time',\n",
    "       'RP State Plate', 'Plate Expiry Date', 'VIN', 'Make', 'Body Style',\n",
    "       'Color', 'Location', 'Route', 'Agency', 'Violation code',\n",
    "       'Violation Description', 'Fine amount', 'Latitude', 'Longitude', 'Year',\n",
    "       'Month', 'Day', 'Parking_Date']]"
   ]
  },
  {
   "cell_type": "code",
   "execution_count": 12,
   "metadata": {},
   "outputs": [
    {
     "data": {
      "text/html": [
       "<div>\n",
       "<style scoped>\n",
       "    .dataframe tbody tr th:only-of-type {\n",
       "        vertical-align: middle;\n",
       "    }\n",
       "\n",
       "    .dataframe tbody tr th {\n",
       "        vertical-align: top;\n",
       "    }\n",
       "\n",
       "    .dataframe thead th {\n",
       "        text-align: right;\n",
       "    }\n",
       "</style>\n",
       "<table border=\"1\" class=\"dataframe\">\n",
       "  <thead>\n",
       "    <tr style=\"text-align: right;\">\n",
       "      <th></th>\n",
       "      <th>Ticket number</th>\n",
       "      <th>Issue Date</th>\n",
       "      <th>Issue time</th>\n",
       "      <th>Meter Id</th>\n",
       "      <th>Marked Time</th>\n",
       "      <th>RP State Plate</th>\n",
       "      <th>Plate Expiry Date</th>\n",
       "      <th>VIN</th>\n",
       "      <th>Make</th>\n",
       "      <th>Body Style</th>\n",
       "      <th>...</th>\n",
       "      <th>Agency</th>\n",
       "      <th>Violation code</th>\n",
       "      <th>Violation Description</th>\n",
       "      <th>Fine amount</th>\n",
       "      <th>Latitude</th>\n",
       "      <th>Longitude</th>\n",
       "      <th>Year</th>\n",
       "      <th>Month</th>\n",
       "      <th>Day</th>\n",
       "      <th>Parking_Date</th>\n",
       "    </tr>\n",
       "  </thead>\n",
       "  <tbody>\n",
       "    <tr>\n",
       "      <th>0</th>\n",
       "      <td>1121041762</td>\n",
       "      <td>2018/01/01 12:00:00 AM</td>\n",
       "      <td>955.0</td>\n",
       "      <td>NaN</td>\n",
       "      <td>NaN</td>\n",
       "      <td>CA</td>\n",
       "      <td>201807.0</td>\n",
       "      <td>NaN</td>\n",
       "      <td>KIA</td>\n",
       "      <td>PA</td>\n",
       "      <td>...</td>\n",
       "      <td>1</td>\n",
       "      <td>8056E4</td>\n",
       "      <td>RED ZONE</td>\n",
       "      <td>93.0</td>\n",
       "      <td>6.483814e+06</td>\n",
       "      <td>1.824574e+06</td>\n",
       "      <td>2018</td>\n",
       "      <td>01</td>\n",
       "      <td>01</td>\n",
       "      <td>2018/01/01</td>\n",
       "    </tr>\n",
       "    <tr>\n",
       "      <th>1</th>\n",
       "      <td>4324502346</td>\n",
       "      <td>2018/01/01 12:00:00 AM</td>\n",
       "      <td>1134.0</td>\n",
       "      <td>NaN</td>\n",
       "      <td>NaN</td>\n",
       "      <td>CA</td>\n",
       "      <td>201706.0</td>\n",
       "      <td>NaN</td>\n",
       "      <td>GMC</td>\n",
       "      <td>TK</td>\n",
       "      <td>...</td>\n",
       "      <td>55</td>\n",
       "      <td>5204A-</td>\n",
       "      <td>DISPLAY OF TABS</td>\n",
       "      <td>25.0</td>\n",
       "      <td>9.999900e+04</td>\n",
       "      <td>9.999900e+04</td>\n",
       "      <td>2018</td>\n",
       "      <td>01</td>\n",
       "      <td>01</td>\n",
       "      <td>2018/01/01</td>\n",
       "    </tr>\n",
       "  </tbody>\n",
       "</table>\n",
       "<p>2 rows × 23 columns</p>\n",
       "</div>"
      ],
      "text/plain": [
       "  Ticket number              Issue Date  Issue time Meter Id  Marked Time  \\\n",
       "0    1121041762  2018/01/01 12:00:00 AM       955.0      NaN          NaN   \n",
       "1    4324502346  2018/01/01 12:00:00 AM      1134.0      NaN          NaN   \n",
       "\n",
       "  RP State Plate  Plate Expiry Date  VIN Make Body Style     ...      Agency  \\\n",
       "0             CA           201807.0  NaN  KIA         PA     ...           1   \n",
       "1             CA           201706.0  NaN  GMC         TK     ...          55   \n",
       "\n",
       "  Violation code Violation Description  Fine amount      Latitude  \\\n",
       "0         8056E4              RED ZONE         93.0  6.483814e+06   \n",
       "1         5204A-       DISPLAY OF TABS         25.0  9.999900e+04   \n",
       "\n",
       "      Longitude  Year  Month  Day Parking_Date  \n",
       "0  1.824574e+06  2018     01   01   2018/01/01  \n",
       "1  9.999900e+04  2018     01   01   2018/01/01  \n",
       "\n",
       "[2 rows x 23 columns]"
      ]
     },
     "execution_count": 12,
     "metadata": {},
     "output_type": "execute_result"
    }
   ],
   "source": [
    "la_parking_df_project.head(2)"
   ]
  },
  {
   "cell_type": "code",
   "execution_count": 13,
   "metadata": {},
   "outputs": [],
   "source": [
    "# save df to a csv file\n",
    "la_parking_df_project.to_csv(r'Resources\\la_parking_df_project.csv')"
   ]
  },
  {
   "cell_type": "markdown",
   "metadata": {},
   "source": [
    "###  Connect to local database"
   ]
  },
  {
   "cell_type": "code",
   "execution_count": 14,
   "metadata": {},
   "outputs": [],
   "source": [
    "### Connect to local database\n",
    "rds_connection_string = \"root:modelobootcamp@127.0.0.1/ladata_db\"\n",
    "engine = create_engine(f'mysql://{rds_connection_string}')\n",
    "connection = engine.connect()"
   ]
  },
  {
   "cell_type": "code",
   "execution_count": 15,
   "metadata": {},
   "outputs": [
    {
     "data": {
      "text/plain": [
       "<sqlalchemy.engine.result.ResultProxy at 0x2424c4e7780>"
      ]
     },
     "execution_count": 15,
     "metadata": {},
     "output_type": "execute_result"
    }
   ],
   "source": [
    "# 7\n",
    "# 6 of 11 crimes\n",
    "connection.execute('use ladata_db;')"
   ]
  },
  {
   "cell_type": "code",
   "execution_count": 16,
   "metadata": {
    "scrolled": true
   },
   "outputs": [
    {
     "data": {
      "text/plain": [
       "['la_crimes_rate', 'parking_citations']"
      ]
     },
     "execution_count": 16,
     "metadata": {},
     "output_type": "execute_result"
    }
   ],
   "source": [
    "# 8\n",
    "# 7 of 11 crimes\n",
    "engine.table_names()"
   ]
  },
  {
   "cell_type": "code",
   "execution_count": 17,
   "metadata": {},
   "outputs": [],
   "source": [
    "la_parking_df_project.to_sql(name='la_parking_df_project', con=engine, if_exists='replace', index=False)"
   ]
  },
  {
   "cell_type": "code",
   "execution_count": 18,
   "metadata": {},
   "outputs": [],
   "source": [
    "results = engine.execute('select * from la_parking_df_project;')"
   ]
  },
  {
   "cell_type": "markdown",
   "metadata": {},
   "source": [
    "### Confirm data has been added by querying the la_parking_df table"
   ]
  },
  {
   "cell_type": "code",
   "execution_count": 19,
   "metadata": {},
   "outputs": [
    {
     "data": {
      "text/plain": [
       "<sqlalchemy.engine.result.ResultProxy at 0x2427fda8a90>"
      ]
     },
     "execution_count": 19,
     "metadata": {},
     "output_type": "execute_result"
    }
   ],
   "source": [
    "connection.execute('use ladata_db;')"
   ]
  },
  {
   "cell_type": "code",
   "execution_count": 20,
   "metadata": {
    "scrolled": true
   },
   "outputs": [
    {
     "data": {
      "text/html": [
       "<div>\n",
       "<style scoped>\n",
       "    .dataframe tbody tr th:only-of-type {\n",
       "        vertical-align: middle;\n",
       "    }\n",
       "\n",
       "    .dataframe tbody tr th {\n",
       "        vertical-align: top;\n",
       "    }\n",
       "\n",
       "    .dataframe thead th {\n",
       "        text-align: right;\n",
       "    }\n",
       "</style>\n",
       "<table border=\"1\" class=\"dataframe\">\n",
       "  <thead>\n",
       "    <tr style=\"text-align: right;\">\n",
       "      <th></th>\n",
       "      <th>Ticket number</th>\n",
       "      <th>Issue Date</th>\n",
       "      <th>Issue time</th>\n",
       "      <th>Meter Id</th>\n",
       "      <th>Marked Time</th>\n",
       "      <th>RP State Plate</th>\n",
       "      <th>Plate Expiry Date</th>\n",
       "      <th>VIN</th>\n",
       "      <th>Make</th>\n",
       "      <th>Body Style</th>\n",
       "      <th>...</th>\n",
       "      <th>Agency</th>\n",
       "      <th>Violation code</th>\n",
       "      <th>Violation Description</th>\n",
       "      <th>Fine amount</th>\n",
       "      <th>Latitude</th>\n",
       "      <th>Longitude</th>\n",
       "      <th>Year</th>\n",
       "      <th>Month</th>\n",
       "      <th>Day</th>\n",
       "      <th>Parking_Date</th>\n",
       "    </tr>\n",
       "  </thead>\n",
       "  <tbody>\n",
       "    <tr>\n",
       "      <th>0</th>\n",
       "      <td>1121041762</td>\n",
       "      <td>2018/01/01 12:00:00 AM</td>\n",
       "      <td>955.0</td>\n",
       "      <td>None</td>\n",
       "      <td>NaN</td>\n",
       "      <td>CA</td>\n",
       "      <td>201807.0</td>\n",
       "      <td>None</td>\n",
       "      <td>KIA</td>\n",
       "      <td>PA</td>\n",
       "      <td>...</td>\n",
       "      <td>1</td>\n",
       "      <td>8056E4</td>\n",
       "      <td>RED ZONE</td>\n",
       "      <td>93.0</td>\n",
       "      <td>6.483814e+06</td>\n",
       "      <td>1.824574e+06</td>\n",
       "      <td>2018</td>\n",
       "      <td>01</td>\n",
       "      <td>01</td>\n",
       "      <td>2018/01/01</td>\n",
       "    </tr>\n",
       "    <tr>\n",
       "      <th>1</th>\n",
       "      <td>4324502346</td>\n",
       "      <td>2018/01/01 12:00:00 AM</td>\n",
       "      <td>1134.0</td>\n",
       "      <td>None</td>\n",
       "      <td>NaN</td>\n",
       "      <td>CA</td>\n",
       "      <td>201706.0</td>\n",
       "      <td>None</td>\n",
       "      <td>GMC</td>\n",
       "      <td>TK</td>\n",
       "      <td>...</td>\n",
       "      <td>55</td>\n",
       "      <td>5204A-</td>\n",
       "      <td>DISPLAY OF TABS</td>\n",
       "      <td>25.0</td>\n",
       "      <td>9.999900e+04</td>\n",
       "      <td>9.999900e+04</td>\n",
       "      <td>2018</td>\n",
       "      <td>01</td>\n",
       "      <td>01</td>\n",
       "      <td>2018/01/01</td>\n",
       "    </tr>\n",
       "  </tbody>\n",
       "</table>\n",
       "<p>2 rows × 23 columns</p>\n",
       "</div>"
      ],
      "text/plain": [
       "  Ticket number              Issue Date  Issue time Meter Id  Marked Time  \\\n",
       "0    1121041762  2018/01/01 12:00:00 AM       955.0     None          NaN   \n",
       "1    4324502346  2018/01/01 12:00:00 AM      1134.0     None          NaN   \n",
       "\n",
       "  RP State Plate  Plate Expiry Date   VIN Make Body Style     ...      Agency  \\\n",
       "0             CA           201807.0  None  KIA         PA     ...           1   \n",
       "1             CA           201706.0  None  GMC         TK     ...          55   \n",
       "\n",
       "  Violation code Violation Description  Fine amount      Latitude  \\\n",
       "0         8056E4              RED ZONE         93.0  6.483814e+06   \n",
       "1         5204A-       DISPLAY OF TABS         25.0  9.999900e+04   \n",
       "\n",
       "      Longitude  Year  Month  Day Parking_Date  \n",
       "0  1.824574e+06  2018     01   01   2018/01/01  \n",
       "1  9.999900e+04  2018     01   01   2018/01/01  \n",
       "\n",
       "[2 rows x 23 columns]"
      ]
     },
     "execution_count": 20,
     "metadata": {},
     "output_type": "execute_result"
    }
   ],
   "source": [
    "pd.read_sql_query('select * from la_parking_df_project', con=engine).head(2)"
   ]
  }
 ],
 "metadata": {
  "kernelspec": {
   "display_name": "Python 3",
   "language": "python",
   "name": "python3"
  },
  "language_info": {
   "codemirror_mode": {
    "name": "ipython",
    "version": 3
   },
   "file_extension": ".py",
   "mimetype": "text/x-python",
   "name": "python",
   "nbconvert_exporter": "python",
   "pygments_lexer": "ipython3",
   "version": "3.7.1"
  }
 },
 "nbformat": 4,
 "nbformat_minor": 2
}
