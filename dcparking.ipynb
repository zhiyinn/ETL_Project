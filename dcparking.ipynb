{
 "cells": [
  {
   "cell_type": "markdown",
   "metadata": {},
   "source": [
    "# !!! Run me first!!!"
   ]
  },
  {
   "cell_type": "code",
   "execution_count": 1,
   "metadata": {},
   "outputs": [],
   "source": [
    "import pandas as pd\n",
    "from sqlalchemy import create_engine\n",
    "import pymysql\n",
    "pymysql.install_as_MySQLdb()\n",
    "import warnings\n",
    "warnings.filterwarnings('ignore')"
   ]
  },
  {
   "cell_type": "code",
   "execution_count": 2,
   "metadata": {},
   "outputs": [
    {
     "data": {
      "text/html": [
       "<div>\n",
       "<style scoped>\n",
       "    .dataframe tbody tr th:only-of-type {\n",
       "        vertical-align: middle;\n",
       "    }\n",
       "\n",
       "    .dataframe tbody tr th {\n",
       "        vertical-align: top;\n",
       "    }\n",
       "\n",
       "    .dataframe thead th {\n",
       "        text-align: right;\n",
       "    }\n",
       "</style>\n",
       "<table border=\"1\" class=\"dataframe\">\n",
       "  <thead>\n",
       "    <tr style=\"text-align: right;\">\n",
       "      <th></th>\n",
       "      <th>X</th>\n",
       "      <th>Y</th>\n",
       "      <th>OBJECTID</th>\n",
       "      <th>ROWID_</th>\n",
       "      <th>DAY_OF_WEEK</th>\n",
       "      <th>HOLIDAY</th>\n",
       "      <th>WEEK_OF_YEAR</th>\n",
       "      <th>MONTH_OF_YEAR</th>\n",
       "      <th>ISSUE_TIME</th>\n",
       "      <th>VIOLATION_CODE</th>\n",
       "      <th>VIOLATION_DESCRIPTION</th>\n",
       "      <th>LOCATION</th>\n",
       "      <th>RP_PLATE_STATE</th>\n",
       "      <th>BODY_STYLE</th>\n",
       "      <th>ADDRESS_ID</th>\n",
       "      <th>STREETSEGID</th>\n",
       "      <th>XCOORD</th>\n",
       "      <th>YCOORD</th>\n",
       "      <th>TICKET_ISSUE_DATE</th>\n",
       "    </tr>\n",
       "  </thead>\n",
       "  <tbody>\n",
       "    <tr>\n",
       "      <th>0</th>\n",
       "      <td>-76.9932</td>\n",
       "      <td>38.8876</td>\n",
       "      <td>4203048</td>\n",
       "      <td>NaN</td>\n",
       "      <td>NaN</td>\n",
       "      <td>NaN</td>\n",
       "      <td>NaN</td>\n",
       "      <td>NaN</td>\n",
       "      <td>NaN</td>\n",
       "      <td>P173</td>\n",
       "      <td>NO PARKING STREET CLEANING</td>\n",
       "      <td>1000 BLOCK INDEPENDENCE AVE SE S*</td>\n",
       "      <td>DC</td>\n",
       "      <td>NaN</td>\n",
       "      <td>811124</td>\n",
       "      <td>9532</td>\n",
       "      <td>400590</td>\n",
       "      <td>135528</td>\n",
       "      <td>2018-04-04T00:00:00.000Z</td>\n",
       "    </tr>\n",
       "    <tr>\n",
       "      <th>1</th>\n",
       "      <td>-77.0189</td>\n",
       "      <td>38.8967</td>\n",
       "      <td>4203049</td>\n",
       "      <td>NaN</td>\n",
       "      <td>NaN</td>\n",
       "      <td>NaN</td>\n",
       "      <td>NaN</td>\n",
       "      <td>NaN</td>\n",
       "      <td>NaN</td>\n",
       "      <td>P259</td>\n",
       "      <td>NO STOPPING OR STANDING IN PM RUSH HOUR ZONE</td>\n",
       "      <td>600 BLOCK 5TH ST NW EAST SIDE</td>\n",
       "      <td>VA</td>\n",
       "      <td>NaN</td>\n",
       "      <td>805251</td>\n",
       "      <td>4503</td>\n",
       "      <td>398358</td>\n",
       "      <td>136543</td>\n",
       "      <td>2018-04-04T16:08:00.000Z</td>\n",
       "    </tr>\n",
       "    <tr>\n",
       "      <th>2</th>\n",
       "      <td>-77.0109</td>\n",
       "      <td>38.9072</td>\n",
       "      <td>4203050</td>\n",
       "      <td>NaN</td>\n",
       "      <td>NaN</td>\n",
       "      <td>NaN</td>\n",
       "      <td>NaN</td>\n",
       "      <td>NaN</td>\n",
       "      <td>NaN</td>\n",
       "      <td>P173</td>\n",
       "      <td>NO PARKING STREET CLEANING</td>\n",
       "      <td>UNIT BLOCK N ST NW NORTH SIDE</td>\n",
       "      <td>DC</td>\n",
       "      <td>NaN</td>\n",
       "      <td>806117</td>\n",
       "      <td>5250</td>\n",
       "      <td>399058</td>\n",
       "      <td>137709</td>\n",
       "      <td>2018-04-04T10:04:00.000Z</td>\n",
       "    </tr>\n",
       "    <tr>\n",
       "      <th>3</th>\n",
       "      <td>-77.0786</td>\n",
       "      <td>38.9127</td>\n",
       "      <td>4203051</td>\n",
       "      <td>NaN</td>\n",
       "      <td>NaN</td>\n",
       "      <td>NaN</td>\n",
       "      <td>NaN</td>\n",
       "      <td>NaN</td>\n",
       "      <td>NaN</td>\n",
       "      <td>P198</td>\n",
       "      <td>PARK WITHIN 20 FEET OF A BUS STOP OR ZONE</td>\n",
       "      <td>3900 BLOCK RESERVOIR RD NW SOUTH*</td>\n",
       "      <td>MD</td>\n",
       "      <td>NaN</td>\n",
       "      <td>812695</td>\n",
       "      <td>10916</td>\n",
       "      <td>393186</td>\n",
       "      <td>138317</td>\n",
       "      <td>2018-04-04T16:31:00.000Z</td>\n",
       "    </tr>\n",
       "    <tr>\n",
       "      <th>4</th>\n",
       "      <td>-77.0418</td>\n",
       "      <td>38.9233</td>\n",
       "      <td>4203052</td>\n",
       "      <td>NaN</td>\n",
       "      <td>NaN</td>\n",
       "      <td>NaN</td>\n",
       "      <td>NaN</td>\n",
       "      <td>NaN</td>\n",
       "      <td>NaN</td>\n",
       "      <td>P281</td>\n",
       "      <td>FAIL TO DISPLAY A MULTISPACE METER RECEIPT</td>\n",
       "      <td>1700 BLOCK COLUMBIA RD NW SOUTH *</td>\n",
       "      <td>MA</td>\n",
       "      <td>NaN</td>\n",
       "      <td>800405</td>\n",
       "      <td>339</td>\n",
       "      <td>396379</td>\n",
       "      <td>139491</td>\n",
       "      <td>2018-04-04T19:22:00.000Z</td>\n",
       "    </tr>\n",
       "  </tbody>\n",
       "</table>\n",
       "</div>"
      ],
      "text/plain": [
       "         X        Y OBJECTID ROWID_ DAY_OF_WEEK HOLIDAY WEEK_OF_YEAR  \\\n",
       "0 -76.9932  38.8876  4203048    NaN         NaN     NaN          NaN   \n",
       "1 -77.0189  38.8967  4203049    NaN         NaN     NaN          NaN   \n",
       "2 -77.0109  38.9072  4203050    NaN         NaN     NaN          NaN   \n",
       "3 -77.0786  38.9127  4203051    NaN         NaN     NaN          NaN   \n",
       "4 -77.0418  38.9233  4203052    NaN         NaN     NaN          NaN   \n",
       "\n",
       "  MONTH_OF_YEAR ISSUE_TIME VIOLATION_CODE  \\\n",
       "0           NaN        NaN           P173   \n",
       "1           NaN        NaN           P259   \n",
       "2           NaN        NaN           P173   \n",
       "3           NaN        NaN           P198   \n",
       "4           NaN        NaN           P281   \n",
       "\n",
       "                          VIOLATION_DESCRIPTION  \\\n",
       "0                    NO PARKING STREET CLEANING   \n",
       "1  NO STOPPING OR STANDING IN PM RUSH HOUR ZONE   \n",
       "2                    NO PARKING STREET CLEANING   \n",
       "3     PARK WITHIN 20 FEET OF A BUS STOP OR ZONE   \n",
       "4    FAIL TO DISPLAY A MULTISPACE METER RECEIPT   \n",
       "\n",
       "                              LOCATION RP_PLATE_STATE BODY_STYLE ADDRESS_ID  \\\n",
       "0    1000 BLOCK INDEPENDENCE AVE SE S*             DC        NaN     811124   \n",
       "1        600 BLOCK 5TH ST NW EAST SIDE             VA        NaN     805251   \n",
       "2        UNIT BLOCK N ST NW NORTH SIDE             DC        NaN     806117   \n",
       "3    3900 BLOCK RESERVOIR RD NW SOUTH*             MD        NaN     812695   \n",
       "4    1700 BLOCK COLUMBIA RD NW SOUTH *             MA        NaN     800405   \n",
       "\n",
       "  STREETSEGID  XCOORD  YCOORD         TICKET_ISSUE_DATE  \n",
       "0        9532  400590  135528  2018-04-04T00:00:00.000Z  \n",
       "1        4503  398358  136543  2018-04-04T16:08:00.000Z  \n",
       "2        5250  399058  137709  2018-04-04T10:04:00.000Z  \n",
       "3       10916  393186  138317  2018-04-04T16:31:00.000Z  \n",
       "4         339  396379  139491  2018-04-04T19:22:00.000Z  "
      ]
     },
     "execution_count": 2,
     "metadata": {},
     "output_type": "execute_result"
    }
   ],
   "source": [
    "#load parking ticket csv\n",
    "csv_file = \"Resources/Parking_Violations_DC_2018.csv\"\n",
    "dcparking_df = pd.read_csv(csv_file)\n",
    "dcparking_df.head()"
   ]
  },
  {
   "cell_type": "code",
   "execution_count": 3,
   "metadata": {},
   "outputs": [],
   "source": [
    "#rename columns from  X,Y to Longitude, Latitude\n",
    "dcparking_df.rename(columns = {'X': 'Longitude' , 'Y': 'Latitude'}, inplace=True)"
   ]
  },
  {
   "cell_type": "code",
   "execution_count": 4,
   "metadata": {},
   "outputs": [
    {
     "data": {
      "text/plain": [
       "Index(['Longitude', 'Latitude', 'OBJECTID', 'ROWID_', 'DAY_OF_WEEK', 'HOLIDAY',\n",
       "       'WEEK_OF_YEAR', 'MONTH_OF_YEAR', 'ISSUE_TIME', 'VIOLATION_CODE',\n",
       "       'VIOLATION_DESCRIPTION', 'LOCATION', 'RP_PLATE_STATE', 'BODY_STYLE',\n",
       "       'ADDRESS_ID', 'STREETSEGID', 'XCOORD', 'YCOORD', 'TICKET_ISSUE_DATE'],\n",
       "      dtype='object')"
      ]
     },
     "execution_count": 4,
     "metadata": {},
     "output_type": "execute_result"
    }
   ],
   "source": [
    "#list the columns\n",
    "dcparking_df.columns"
   ]
  },
  {
   "cell_type": "code",
   "execution_count": 5,
   "metadata": {},
   "outputs": [
    {
     "data": {
      "text/html": [
       "<div>\n",
       "<style scoped>\n",
       "    .dataframe tbody tr th:only-of-type {\n",
       "        vertical-align: middle;\n",
       "    }\n",
       "\n",
       "    .dataframe tbody tr th {\n",
       "        vertical-align: top;\n",
       "    }\n",
       "\n",
       "    .dataframe thead th {\n",
       "        text-align: right;\n",
       "    }\n",
       "</style>\n",
       "<table border=\"1\" class=\"dataframe\">\n",
       "  <thead>\n",
       "    <tr style=\"text-align: right;\">\n",
       "      <th></th>\n",
       "      <th>Latitude</th>\n",
       "      <th>Longitude</th>\n",
       "      <th>VIOLATION_DESCRIPTION</th>\n",
       "      <th>TICKET_ISSUE_DATE</th>\n",
       "    </tr>\n",
       "  </thead>\n",
       "  <tbody>\n",
       "    <tr>\n",
       "      <th>0</th>\n",
       "      <td>38.8876</td>\n",
       "      <td>-76.9932</td>\n",
       "      <td>NO PARKING STREET CLEANING</td>\n",
       "      <td>2018-04-04T00:00:00.000Z</td>\n",
       "    </tr>\n",
       "    <tr>\n",
       "      <th>1</th>\n",
       "      <td>38.8967</td>\n",
       "      <td>-77.0189</td>\n",
       "      <td>NO STOPPING OR STANDING IN PM RUSH HOUR ZONE</td>\n",
       "      <td>2018-04-04T16:08:00.000Z</td>\n",
       "    </tr>\n",
       "    <tr>\n",
       "      <th>2</th>\n",
       "      <td>38.9072</td>\n",
       "      <td>-77.0109</td>\n",
       "      <td>NO PARKING STREET CLEANING</td>\n",
       "      <td>2018-04-04T10:04:00.000Z</td>\n",
       "    </tr>\n",
       "    <tr>\n",
       "      <th>3</th>\n",
       "      <td>38.9127</td>\n",
       "      <td>-77.0786</td>\n",
       "      <td>PARK WITHIN 20 FEET OF A BUS STOP OR ZONE</td>\n",
       "      <td>2018-04-04T16:31:00.000Z</td>\n",
       "    </tr>\n",
       "    <tr>\n",
       "      <th>4</th>\n",
       "      <td>38.9233</td>\n",
       "      <td>-77.0418</td>\n",
       "      <td>FAIL TO DISPLAY A MULTISPACE METER RECEIPT</td>\n",
       "      <td>2018-04-04T19:22:00.000Z</td>\n",
       "    </tr>\n",
       "  </tbody>\n",
       "</table>\n",
       "</div>"
      ],
      "text/plain": [
       "  Latitude Longitude                         VIOLATION_DESCRIPTION  \\\n",
       "0  38.8876  -76.9932                    NO PARKING STREET CLEANING   \n",
       "1  38.8967  -77.0189  NO STOPPING OR STANDING IN PM RUSH HOUR ZONE   \n",
       "2  38.9072  -77.0109                    NO PARKING STREET CLEANING   \n",
       "3  38.9127  -77.0786     PARK WITHIN 20 FEET OF A BUS STOP OR ZONE   \n",
       "4  38.9233  -77.0418    FAIL TO DISPLAY A MULTISPACE METER RECEIPT   \n",
       "\n",
       "          TICKET_ISSUE_DATE  \n",
       "0  2018-04-04T00:00:00.000Z  \n",
       "1  2018-04-04T16:08:00.000Z  \n",
       "2  2018-04-04T10:04:00.000Z  \n",
       "3  2018-04-04T16:31:00.000Z  \n",
       "4  2018-04-04T19:22:00.000Z  "
      ]
     },
     "execution_count": 5,
     "metadata": {},
     "output_type": "execute_result"
    }
   ],
   "source": [
    "#set the new columns we want to use.\n",
    "newdcpark_df = dcparking_df[['Latitude', 'Longitude', 'VIOLATION_DESCRIPTION','TICKET_ISSUE_DATE' ]]\n",
    "newdcpark_df.head()"
   ]
  },
  {
   "cell_type": "markdown",
   "metadata": {},
   "source": [
    "## Getting date information"
   ]
  },
  {
   "cell_type": "code",
   "execution_count": 6,
   "metadata": {},
   "outputs": [
    {
     "data": {
      "text/plain": [
       "'2018-04-04T16:08:00.000Z'"
      ]
     },
     "execution_count": 6,
     "metadata": {},
     "output_type": "execute_result"
    }
   ],
   "source": [
    "# clean up date to make it just month and day\n",
    "dates = []\n",
    "dates = newdcpark_df['TICKET_ISSUE_DATE'].values\n",
    "dates [1]"
   ]
  },
  {
   "cell_type": "code",
   "execution_count": 7,
   "metadata": {},
   "outputs": [
    {
     "name": "stderr",
     "output_type": "stream",
     "text": [
      "IOPub data rate exceeded.\n",
      "The notebook server will temporarily stop sending output\n",
      "to the client in order to avoid crashing it.\n",
      "To change this limit, set the config variable\n",
      "`--NotebookApp.iopub_data_rate_limit`.\n",
      "\n",
      "Current values:\n",
      "NotebookApp.iopub_data_rate_limit=1000000.0 (bytes/sec)\n",
      "NotebookApp.rate_limit_window=3.0 (secs)\n",
      "\n"
     ]
    }
   ],
   "source": [
    "# get the month\n",
    "\n",
    "MM = []\n",
    "for d in dates:\n",
    "    MM.append(d[5:7])\n",
    "print(MM)"
   ]
  },
  {
   "cell_type": "code",
   "execution_count": 8,
   "metadata": {},
   "outputs": [
    {
     "name": "stderr",
     "output_type": "stream",
     "text": [
      "IOPub data rate exceeded.\n",
      "The notebook server will temporarily stop sending output\n",
      "to the client in order to avoid crashing it.\n",
      "To change this limit, set the config variable\n",
      "`--NotebookApp.iopub_data_rate_limit`.\n",
      "\n",
      "Current values:\n",
      "NotebookApp.iopub_data_rate_limit=1000000.0 (bytes/sec)\n",
      "NotebookApp.rate_limit_window=3.0 (secs)\n",
      "\n"
     ]
    }
   ],
   "source": [
    "#get the day\n",
    "DD = []\n",
    "for d in dates:\n",
    "    DD.append(d[8:10])\n",
    "print(DD)"
   ]
  },
  {
   "cell_type": "code",
   "execution_count": 9,
   "metadata": {},
   "outputs": [],
   "source": [
    "#create the MONTH column and populate (you'll get an error but it works)\n",
    "newdcpark_df[\"MONTH\"]=MM"
   ]
  },
  {
   "cell_type": "code",
   "execution_count": 10,
   "metadata": {},
   "outputs": [],
   "source": [
    "#create the DAY column and populate (you'll get an error but it works)\n",
    "newdcpark_df[\"DAY\"]=DD"
   ]
  },
  {
   "cell_type": "code",
   "execution_count": 11,
   "metadata": {},
   "outputs": [],
   "source": [
    "#put date back together in YYYY-MM-DD format\n",
    "newdcpark_df['DATE']=[f\"2018-{newdcpark_df['MONTH'][i]}-{newdcpark_df['DAY'][i]}\" for i in newdcpark_df.index]\n"
   ]
  },
  {
   "cell_type": "code",
   "execution_count": 12,
   "metadata": {
    "scrolled": true
   },
   "outputs": [
    {
     "data": {
      "text/html": [
       "<div>\n",
       "<style scoped>\n",
       "    .dataframe tbody tr th:only-of-type {\n",
       "        vertical-align: middle;\n",
       "    }\n",
       "\n",
       "    .dataframe tbody tr th {\n",
       "        vertical-align: top;\n",
       "    }\n",
       "\n",
       "    .dataframe thead th {\n",
       "        text-align: right;\n",
       "    }\n",
       "</style>\n",
       "<table border=\"1\" class=\"dataframe\">\n",
       "  <thead>\n",
       "    <tr style=\"text-align: right;\">\n",
       "      <th></th>\n",
       "      <th>Latitude</th>\n",
       "      <th>Longitude</th>\n",
       "      <th>VIOLATION_DESCRIPTION</th>\n",
       "      <th>MONTH</th>\n",
       "      <th>DAY</th>\n",
       "      <th>DATE</th>\n",
       "    </tr>\n",
       "  </thead>\n",
       "  <tbody>\n",
       "    <tr>\n",
       "      <th>0</th>\n",
       "      <td>38.8876</td>\n",
       "      <td>-76.9932</td>\n",
       "      <td>NO PARKING STREET CLEANING</td>\n",
       "      <td>04</td>\n",
       "      <td>04</td>\n",
       "      <td>2018-04-04</td>\n",
       "    </tr>\n",
       "    <tr>\n",
       "      <th>1</th>\n",
       "      <td>38.8967</td>\n",
       "      <td>-77.0189</td>\n",
       "      <td>NO STOPPING OR STANDING IN PM RUSH HOUR ZONE</td>\n",
       "      <td>04</td>\n",
       "      <td>04</td>\n",
       "      <td>2018-04-04</td>\n",
       "    </tr>\n",
       "    <tr>\n",
       "      <th>2</th>\n",
       "      <td>38.9072</td>\n",
       "      <td>-77.0109</td>\n",
       "      <td>NO PARKING STREET CLEANING</td>\n",
       "      <td>04</td>\n",
       "      <td>04</td>\n",
       "      <td>2018-04-04</td>\n",
       "    </tr>\n",
       "    <tr>\n",
       "      <th>3</th>\n",
       "      <td>38.9127</td>\n",
       "      <td>-77.0786</td>\n",
       "      <td>PARK WITHIN 20 FEET OF A BUS STOP OR ZONE</td>\n",
       "      <td>04</td>\n",
       "      <td>04</td>\n",
       "      <td>2018-04-04</td>\n",
       "    </tr>\n",
       "    <tr>\n",
       "      <th>4</th>\n",
       "      <td>38.9233</td>\n",
       "      <td>-77.0418</td>\n",
       "      <td>FAIL TO DISPLAY A MULTISPACE METER RECEIPT</td>\n",
       "      <td>04</td>\n",
       "      <td>04</td>\n",
       "      <td>2018-04-04</td>\n",
       "    </tr>\n",
       "  </tbody>\n",
       "</table>\n",
       "</div>"
      ],
      "text/plain": [
       "  Latitude Longitude                         VIOLATION_DESCRIPTION MONTH DAY  \\\n",
       "0  38.8876  -76.9932                    NO PARKING STREET CLEANING    04  04   \n",
       "1  38.8967  -77.0189  NO STOPPING OR STANDING IN PM RUSH HOUR ZONE    04  04   \n",
       "2  38.9072  -77.0109                    NO PARKING STREET CLEANING    04  04   \n",
       "3  38.9127  -77.0786     PARK WITHIN 20 FEET OF A BUS STOP OR ZONE    04  04   \n",
       "4  38.9233  -77.0418    FAIL TO DISPLAY A MULTISPACE METER RECEIPT    04  04   \n",
       "\n",
       "         DATE  \n",
       "0  2018-04-04  \n",
       "1  2018-04-04  \n",
       "2  2018-04-04  \n",
       "3  2018-04-04  \n",
       "4  2018-04-04  "
      ]
     },
     "execution_count": 12,
     "metadata": {},
     "output_type": "execute_result"
    }
   ],
   "source": [
    "#create new columns (getting rid of the ticket_issue_date)\n",
    "finaldcpark_df = newdcpark_df[['Latitude', 'Longitude', 'VIOLATION_DESCRIPTION', 'MONTH', 'DAY', 'DATE']]\n",
    "finaldcpark_df.head()"
   ]
  },
  {
   "cell_type": "markdown",
   "metadata": {},
   "source": [
    "## Push to SQL"
   ]
  },
  {
   "cell_type": "code",
   "execution_count": 13,
   "metadata": {},
   "outputs": [],
   "source": [
    "#Create Database\n",
    "connection_string = \"root:Password@localhost/DCDATA_DB?charset=utf8\"\n",
    "engine = create_engine(f'mysql://{connection_string}')"
   ]
  },
  {
   "cell_type": "code",
   "execution_count": 14,
   "metadata": {},
   "outputs": [],
   "source": [
    "#load new data after dropping columns from Parking\n",
    "newdcpark_df.to_sql(name='PARKING', con=engine, if_exists='replace', index=False)"
   ]
  },
  {
   "cell_type": "code",
   "execution_count": 15,
   "metadata": {},
   "outputs": [
    {
     "data": {
      "text/html": [
       "<div>\n",
       "<style scoped>\n",
       "    .dataframe tbody tr th:only-of-type {\n",
       "        vertical-align: middle;\n",
       "    }\n",
       "\n",
       "    .dataframe tbody tr th {\n",
       "        vertical-align: top;\n",
       "    }\n",
       "\n",
       "    .dataframe thead th {\n",
       "        text-align: right;\n",
       "    }\n",
       "</style>\n",
       "<table border=\"1\" class=\"dataframe\">\n",
       "  <thead>\n",
       "    <tr style=\"text-align: right;\">\n",
       "      <th></th>\n",
       "      <th>Latitude</th>\n",
       "      <th>Longitude</th>\n",
       "      <th>VIOLATION_DESCRIPTION</th>\n",
       "      <th>TICKET_ISSUE_DATE</th>\n",
       "      <th>MONTH</th>\n",
       "      <th>DAY</th>\n",
       "      <th>DATE</th>\n",
       "    </tr>\n",
       "  </thead>\n",
       "  <tbody>\n",
       "    <tr>\n",
       "      <th>0</th>\n",
       "      <td>38.88760034879</td>\n",
       "      <td>-76.993201829703</td>\n",
       "      <td>NO PARKING STREET CLEANING</td>\n",
       "      <td>2018-04-04T00:00:00.000Z</td>\n",
       "      <td>04</td>\n",
       "      <td>04</td>\n",
       "      <td>2018-04-04</td>\n",
       "    </tr>\n",
       "    <tr>\n",
       "      <th>1</th>\n",
       "      <td>38.8967425107048</td>\n",
       "      <td>-77.0189307155777</td>\n",
       "      <td>NO STOPPING OR STANDING IN PM RUSH HOUR ZONE</td>\n",
       "      <td>2018-04-04T16:08:00.000Z</td>\n",
       "      <td>04</td>\n",
       "      <td>04</td>\n",
       "      <td>2018-04-04</td>\n",
       "    </tr>\n",
       "    <tr>\n",
       "      <th>2</th>\n",
       "      <td>38.9072472840597</td>\n",
       "      <td>-77.0108629472506</td>\n",
       "      <td>NO PARKING STREET CLEANING</td>\n",
       "      <td>2018-04-04T10:04:00.000Z</td>\n",
       "      <td>04</td>\n",
       "      <td>04</td>\n",
       "      <td>2018-04-04</td>\n",
       "    </tr>\n",
       "    <tr>\n",
       "      <th>3</th>\n",
       "      <td>38.9126984450469</td>\n",
       "      <td>-77.07856940182</td>\n",
       "      <td>PARK WITHIN 20 FEET OF A BUS STOP OR ZONE</td>\n",
       "      <td>2018-04-04T16:31:00.000Z</td>\n",
       "      <td>04</td>\n",
       "      <td>04</td>\n",
       "      <td>2018-04-04</td>\n",
       "    </tr>\n",
       "    <tr>\n",
       "      <th>4</th>\n",
       "      <td>38.9232931808667</td>\n",
       "      <td>-77.0417595163018</td>\n",
       "      <td>FAIL TO DISPLAY A MULTISPACE METER RECEIPT</td>\n",
       "      <td>2018-04-04T19:22:00.000Z</td>\n",
       "      <td>04</td>\n",
       "      <td>04</td>\n",
       "      <td>2018-04-04</td>\n",
       "    </tr>\n",
       "  </tbody>\n",
       "</table>\n",
       "</div>"
      ],
      "text/plain": [
       "           Latitude          Longitude  \\\n",
       "0    38.88760034879   -76.993201829703   \n",
       "1  38.8967425107048  -77.0189307155777   \n",
       "2  38.9072472840597  -77.0108629472506   \n",
       "3  38.9126984450469    -77.07856940182   \n",
       "4  38.9232931808667  -77.0417595163018   \n",
       "\n",
       "                          VIOLATION_DESCRIPTION         TICKET_ISSUE_DATE  \\\n",
       "0                    NO PARKING STREET CLEANING  2018-04-04T00:00:00.000Z   \n",
       "1  NO STOPPING OR STANDING IN PM RUSH HOUR ZONE  2018-04-04T16:08:00.000Z   \n",
       "2                    NO PARKING STREET CLEANING  2018-04-04T10:04:00.000Z   \n",
       "3     PARK WITHIN 20 FEET OF A BUS STOP OR ZONE  2018-04-04T16:31:00.000Z   \n",
       "4    FAIL TO DISPLAY A MULTISPACE METER RECEIPT  2018-04-04T19:22:00.000Z   \n",
       "\n",
       "  MONTH DAY        DATE  \n",
       "0    04  04  2018-04-04  \n",
       "1    04  04  2018-04-04  \n",
       "2    04  04  2018-04-04  \n",
       "3    04  04  2018-04-04  \n",
       "4    04  04  2018-04-04  "
      ]
     },
     "execution_count": 15,
     "metadata": {},
     "output_type": "execute_result"
    }
   ],
   "source": [
    "#confirm new parking data loaded successfully\n",
    "pd.read_sql_query('select * from PARKING', con=engine).head(5)"
   ]
  }
 ],
 "metadata": {
  "kernelspec": {
   "display_name": "Python 3",
   "language": "python",
   "name": "python3"
  },
  "language_info": {
   "codemirror_mode": {
    "name": "ipython",
    "version": 3
   },
   "file_extension": ".py",
   "mimetype": "text/x-python",
   "name": "python",
   "nbconvert_exporter": "python",
   "pygments_lexer": "ipython3",
   "version": "3.7.2"
  }
 },
 "nbformat": 4,
 "nbformat_minor": 2
}
